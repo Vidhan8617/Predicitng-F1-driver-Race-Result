{
 "cells": [
  {
   "cell_type": "code",
   "execution_count": 117,
   "id": "be4512d9",
   "metadata": {},
   "outputs": [],
   "source": [
    "\n",
    "import pandas as pd\n",
    "import numpy as np\n",
    "import matplotlib.pyplot as plt\n",
    "import seaborn as sns\n",
    "\n",
    "from sklearn.model_selection import train_test_split\n",
    "from sklearn.preprocessing import StandardScaler\n",
    "from sklearn.metrics import classification_report, confusion_matrix, f1_score\n",
    "\n",
    "import tensorflow as tf\n",
    "from tensorflow.keras import models, layers\n"
   ]
  },
  {
   "cell_type": "code",
   "execution_count": 118,
   "id": "5ab39c40",
   "metadata": {},
   "outputs": [
    {
     "name": "stdout",
     "output_type": "stream",
     "text": [
      "Races: (1125, 18)\n",
      "Drivers: (861, 9)\n",
      "Constructors: (212, 5)\n",
      "Results: (26759, 18)\n"
     ]
    }
   ],
   "source": [
    "races = pd.read_csv(\"dataset/races.csv\")\n",
    "drivers = pd.read_csv(\"dataset/drivers.csv\")\n",
    "constructors = pd.read_csv(\"dataset/constructors.csv\")\n",
    "results = pd.read_csv(\"dataset/results.csv\")\n",
    "circuits = pd.read_csv(\"dataset/circuits.csv\")\n",
    "\n",
    "print(\"Races:\", races.shape)\n",
    "print(\"Drivers:\", drivers.shape)\n",
    "print(\"Constructors:\", constructors.shape)\n",
    "print(\"Results:\", results.shape)\n"
   ]
  },
  {
   "cell_type": "code",
   "execution_count": 119,
   "id": "3ad3c5ed",
   "metadata": {},
   "outputs": [],
   "source": [
    "races = races.rename(columns={'name': 'race_name', 'url': 'race_url'})\n",
    "drivers = drivers.rename(columns={'name': 'driver_name', 'url': 'driver_url'})\n",
    "constructors = constructors.rename(columns={'name': 'constructor_name', 'url': 'constructor_url'})\n",
    "circuits = circuits.rename(columns={'name': 'circuit_name', 'url': 'circuit_url'})\n"
   ]
  },
  {
   "cell_type": "code",
   "execution_count": 120,
   "id": "27811f1d",
   "metadata": {},
   "outputs": [],
   "source": [
    "df = (results\n",
    "      .merge(races, on='raceId', how='left')\n",
    "      .merge(drivers, on='driverId', how='left')\n",
    "      .merge(constructors, on='constructorId', how='left')\n",
    "      .merge(circuits, on='circuitId', how='left')\n",
    "     )"
   ]
  },
  {
   "cell_type": "code",
   "execution_count": 121,
   "id": "0146aa14",
   "metadata": {},
   "outputs": [
    {
     "name": "stdout",
     "output_type": "stream",
     "text": [
      "   resultId  raceId  driverId  constructorId number_x  grid position  \\\n",
      "0         1      18         1              1       22     1        1   \n",
      "1         2      18         2              2        3     5        2   \n",
      "2         3      18         3              3        7     7        3   \n",
      "3         4      18         4              4        5    11        4   \n",
      "4         5      18         5              1       23     3        5   \n",
      "\n",
      "  positionText  positionOrder  points  ...  \\\n",
      "0            1              1    10.0  ...   \n",
      "1            2              2     8.0  ...   \n",
      "2            3              3     6.0  ...   \n",
      "3            4              4     5.0  ...   \n",
      "4            5              5     4.0  ...   \n",
      "\n",
      "                                     constructor_url   circuitRef  \\\n",
      "0               http://en.wikipedia.org/wiki/McLaren  albert_park   \n",
      "1            http://en.wikipedia.org/wiki/BMW_Sauber  albert_park   \n",
      "2  http://en.wikipedia.org/wiki/Williams_Grand_Pr...  albert_park   \n",
      "3  http://en.wikipedia.org/wiki/Renault_in_Formul...  albert_park   \n",
      "4               http://en.wikipedia.org/wiki/McLaren  albert_park   \n",
      "\n",
      "                     circuit_name   location    country      lat      lng  \\\n",
      "0  Albert Park Grand Prix Circuit  Melbourne  Australia -37.8497  144.968   \n",
      "1  Albert Park Grand Prix Circuit  Melbourne  Australia -37.8497  144.968   \n",
      "2  Albert Park Grand Prix Circuit  Melbourne  Australia -37.8497  144.968   \n",
      "3  Albert Park Grand Prix Circuit  Melbourne  Australia -37.8497  144.968   \n",
      "4  Albert Park Grand Prix Circuit  Melbourne  Australia -37.8497  144.968   \n",
      "\n",
      "   alt                                        circuit_url  podium  \n",
      "0   10  http://en.wikipedia.org/wiki/Melbourne_Grand_P...       1  \n",
      "1   10  http://en.wikipedia.org/wiki/Melbourne_Grand_P...       1  \n",
      "2   10  http://en.wikipedia.org/wiki/Melbourne_Grand_P...       1  \n",
      "3   10  http://en.wikipedia.org/wiki/Melbourne_Grand_P...       0  \n",
      "4   10  http://en.wikipedia.org/wiki/Melbourne_Grand_P...       0  \n",
      "\n",
      "[5 rows x 56 columns]\n",
      "\n",
      "Final shape: (26759, 56)\n"
     ]
    }
   ],
   "source": [
    "df = df[df['positionOrder'].notna()]\n",
    "df['podium'] = (df['positionOrder'] <= 3).astype(int)\n",
    "print(df.head())\n",
    "print(\"\\nFinal shape:\", df.shape)"
   ]
  },
  {
   "cell_type": "code",
   "execution_count": 122,
   "id": "a5f6e365",
   "metadata": {},
   "outputs": [
    {
     "name": "stdout",
     "output_type": "stream",
     "text": [
      "Feature shape: (26759, 1072)\n",
      "Target distribution: [23362  3397]\n"
     ]
    }
   ],
   "source": [
    "features = ['grid', 'constructorRef', 'driverRef', 'circuitId']\n",
    "\n",
    "df_cat = pd.get_dummies(df[['constructorRef','driverRef','circuitId']], drop_first=True)\n",
    "scaler = StandardScaler()\n",
    "df_num = scaler.fit_transform(df[['grid']])\n",
    "X = np.hstack([df_num, df_cat.values])\n",
    "y = df['podium'].values\n",
    "print(\"Feature shape:\", X.shape)\n",
    "print(\"Target distribution:\", np.bincount(y))\n"
   ]
  },
  {
   "cell_type": "code",
   "execution_count": 123,
   "id": "11e0c166",
   "metadata": {},
   "outputs": [
    {
     "name": "stdout",
     "output_type": "stream",
     "text": [
      "Train size: (22918, 1072) Test size: (3841, 1072)\n",
      "object\n",
      "int64\n"
     ]
    }
   ],
   "source": [
    "train_mask = (df['year'] <= 2015).to_numpy()\n",
    "test_mask = (df['year'] > 2015).to_numpy()\n",
    "\n",
    "X_train, X_test = X[train_mask], X[test_mask]\n",
    "y_train, y_test = y[train_mask], y[test_mask]\n",
    "\n",
    "print(\"Train size:\", X_train.shape, \"Test size:\", X_test.shape)\n",
    "print(X_train.dtype)  # should be float64\n",
    "print(y_train.dtype)  # usually int64\n"
   ]
  },
  {
   "cell_type": "code",
   "execution_count": 124,
   "id": "f07e1f74",
   "metadata": {},
   "outputs": [
    {
     "name": "stderr",
     "output_type": "stream",
     "text": [
      "C:\\Users\\Lenovo\\AppData\\Local\\Packages\\PythonSoftwareFoundation.Python.3.12_qbz5n2kfra8p0\\LocalCache\\local-packages\\Python312\\site-packages\\keras\\src\\layers\\core\\dense.py:92: UserWarning: Do not pass an `input_shape`/`input_dim` argument to a layer. When using Sequential models, prefer using an `Input(shape)` object as the first layer in the model instead.\n",
      "  super().__init__(activity_regularizer=activity_regularizer, **kwargs)\n"
     ]
    },
    {
     "data": {
      "text/html": [
       "<pre style=\"white-space:pre;overflow-x:auto;line-height:normal;font-family:Menlo,'DejaVu Sans Mono',consolas,'Courier New',monospace\"><span style=\"font-weight: bold\">Model: \"sequential_8\"</span>\n",
       "</pre>\n"
      ],
      "text/plain": [
       "\u001b[1mModel: \"sequential_8\"\u001b[0m\n"
      ]
     },
     "metadata": {},
     "output_type": "display_data"
    },
    {
     "data": {
      "text/html": [
       "<pre style=\"white-space:pre;overflow-x:auto;line-height:normal;font-family:Menlo,'DejaVu Sans Mono',consolas,'Courier New',monospace\">┏━━━━━━━━━━━━━━━━━━━━━━━━━━━━━━━━━┳━━━━━━━━━━━━━━━━━━━━━━━━┳━━━━━━━━━━━━━━━┓\n",
       "┃<span style=\"font-weight: bold\"> Layer (type)                    </span>┃<span style=\"font-weight: bold\"> Output Shape           </span>┃<span style=\"font-weight: bold\">       Param # </span>┃\n",
       "┡━━━━━━━━━━━━━━━━━━━━━━━━━━━━━━━━━╇━━━━━━━━━━━━━━━━━━━━━━━━╇━━━━━━━━━━━━━━━┩\n",
       "│ dense_24 (<span style=\"color: #0087ff; text-decoration-color: #0087ff\">Dense</span>)                │ (<span style=\"color: #00d7ff; text-decoration-color: #00d7ff\">None</span>, <span style=\"color: #00af00; text-decoration-color: #00af00\">128</span>)            │       <span style=\"color: #00af00; text-decoration-color: #00af00\">137,344</span> │\n",
       "├─────────────────────────────────┼────────────────────────┼───────────────┤\n",
       "│ dropout_16 (<span style=\"color: #0087ff; text-decoration-color: #0087ff\">Dropout</span>)            │ (<span style=\"color: #00d7ff; text-decoration-color: #00d7ff\">None</span>, <span style=\"color: #00af00; text-decoration-color: #00af00\">128</span>)            │             <span style=\"color: #00af00; text-decoration-color: #00af00\">0</span> │\n",
       "├─────────────────────────────────┼────────────────────────┼───────────────┤\n",
       "│ dense_25 (<span style=\"color: #0087ff; text-decoration-color: #0087ff\">Dense</span>)                │ (<span style=\"color: #00d7ff; text-decoration-color: #00d7ff\">None</span>, <span style=\"color: #00af00; text-decoration-color: #00af00\">64</span>)             │         <span style=\"color: #00af00; text-decoration-color: #00af00\">8,256</span> │\n",
       "├─────────────────────────────────┼────────────────────────┼───────────────┤\n",
       "│ dropout_17 (<span style=\"color: #0087ff; text-decoration-color: #0087ff\">Dropout</span>)            │ (<span style=\"color: #00d7ff; text-decoration-color: #00d7ff\">None</span>, <span style=\"color: #00af00; text-decoration-color: #00af00\">64</span>)             │             <span style=\"color: #00af00; text-decoration-color: #00af00\">0</span> │\n",
       "├─────────────────────────────────┼────────────────────────┼───────────────┤\n",
       "│ dense_26 (<span style=\"color: #0087ff; text-decoration-color: #0087ff\">Dense</span>)                │ (<span style=\"color: #00d7ff; text-decoration-color: #00d7ff\">None</span>, <span style=\"color: #00af00; text-decoration-color: #00af00\">1</span>)              │            <span style=\"color: #00af00; text-decoration-color: #00af00\">65</span> │\n",
       "└─────────────────────────────────┴────────────────────────┴───────────────┘\n",
       "</pre>\n"
      ],
      "text/plain": [
       "┏━━━━━━━━━━━━━━━━━━━━━━━━━━━━━━━━━┳━━━━━━━━━━━━━━━━━━━━━━━━┳━━━━━━━━━━━━━━━┓\n",
       "┃\u001b[1m \u001b[0m\u001b[1mLayer (type)                   \u001b[0m\u001b[1m \u001b[0m┃\u001b[1m \u001b[0m\u001b[1mOutput Shape          \u001b[0m\u001b[1m \u001b[0m┃\u001b[1m \u001b[0m\u001b[1m      Param #\u001b[0m\u001b[1m \u001b[0m┃\n",
       "┡━━━━━━━━━━━━━━━━━━━━━━━━━━━━━━━━━╇━━━━━━━━━━━━━━━━━━━━━━━━╇━━━━━━━━━━━━━━━┩\n",
       "│ dense_24 (\u001b[38;5;33mDense\u001b[0m)                │ (\u001b[38;5;45mNone\u001b[0m, \u001b[38;5;34m128\u001b[0m)            │       \u001b[38;5;34m137,344\u001b[0m │\n",
       "├─────────────────────────────────┼────────────────────────┼───────────────┤\n",
       "│ dropout_16 (\u001b[38;5;33mDropout\u001b[0m)            │ (\u001b[38;5;45mNone\u001b[0m, \u001b[38;5;34m128\u001b[0m)            │             \u001b[38;5;34m0\u001b[0m │\n",
       "├─────────────────────────────────┼────────────────────────┼───────────────┤\n",
       "│ dense_25 (\u001b[38;5;33mDense\u001b[0m)                │ (\u001b[38;5;45mNone\u001b[0m, \u001b[38;5;34m64\u001b[0m)             │         \u001b[38;5;34m8,256\u001b[0m │\n",
       "├─────────────────────────────────┼────────────────────────┼───────────────┤\n",
       "│ dropout_17 (\u001b[38;5;33mDropout\u001b[0m)            │ (\u001b[38;5;45mNone\u001b[0m, \u001b[38;5;34m64\u001b[0m)             │             \u001b[38;5;34m0\u001b[0m │\n",
       "├─────────────────────────────────┼────────────────────────┼───────────────┤\n",
       "│ dense_26 (\u001b[38;5;33mDense\u001b[0m)                │ (\u001b[38;5;45mNone\u001b[0m, \u001b[38;5;34m1\u001b[0m)              │            \u001b[38;5;34m65\u001b[0m │\n",
       "└─────────────────────────────────┴────────────────────────┴───────────────┘\n"
      ]
     },
     "metadata": {},
     "output_type": "display_data"
    },
    {
     "data": {
      "text/html": [
       "<pre style=\"white-space:pre;overflow-x:auto;line-height:normal;font-family:Menlo,'DejaVu Sans Mono',consolas,'Courier New',monospace\"><span style=\"font-weight: bold\"> Total params: </span><span style=\"color: #00af00; text-decoration-color: #00af00\">145,665</span> (569.00 KB)\n",
       "</pre>\n"
      ],
      "text/plain": [
       "\u001b[1m Total params: \u001b[0m\u001b[38;5;34m145,665\u001b[0m (569.00 KB)\n"
      ]
     },
     "metadata": {},
     "output_type": "display_data"
    },
    {
     "data": {
      "text/html": [
       "<pre style=\"white-space:pre;overflow-x:auto;line-height:normal;font-family:Menlo,'DejaVu Sans Mono',consolas,'Courier New',monospace\"><span style=\"font-weight: bold\"> Trainable params: </span><span style=\"color: #00af00; text-decoration-color: #00af00\">145,665</span> (569.00 KB)\n",
       "</pre>\n"
      ],
      "text/plain": [
       "\u001b[1m Trainable params: \u001b[0m\u001b[38;5;34m145,665\u001b[0m (569.00 KB)\n"
      ]
     },
     "metadata": {},
     "output_type": "display_data"
    },
    {
     "data": {
      "text/html": [
       "<pre style=\"white-space:pre;overflow-x:auto;line-height:normal;font-family:Menlo,'DejaVu Sans Mono',consolas,'Courier New',monospace\"><span style=\"font-weight: bold\"> Non-trainable params: </span><span style=\"color: #00af00; text-decoration-color: #00af00\">0</span> (0.00 B)\n",
       "</pre>\n"
      ],
      "text/plain": [
       "\u001b[1m Non-trainable params: \u001b[0m\u001b[38;5;34m0\u001b[0m (0.00 B)\n"
      ]
     },
     "metadata": {},
     "output_type": "display_data"
    }
   ],
   "source": [
    "input_dim = X_train.shape[1]\n",
    "\n",
    "model = models.Sequential([\n",
    "    layers.Dense(128, activation='relu', input_shape=(input_dim,)),\n",
    "    layers.Dropout(0.3),\n",
    "    layers.Dense(64, activation='relu'),\n",
    "    layers.Dropout(0.2),\n",
    "    layers.Dense(1, activation='sigmoid')\n",
    "])\n",
    "\n",
    "model.compile(optimizer='adam',\n",
    "              loss='binary_crossentropy',\n",
    "              metrics=['accuracy'])\n",
    "\n",
    "model.summary()\n"
   ]
  },
  {
   "cell_type": "code",
   "execution_count": 125,
   "id": "6a24ab6f",
   "metadata": {},
   "outputs": [],
   "source": [
    "numeric_cols = ['grid']  # example numeric\n",
    "categorical_cols = ['driverRef', 'constructorRef', 'circuitId']  # categorical\n"
   ]
  },
  {
   "cell_type": "code",
   "execution_count": 126,
   "id": "18f8e275",
   "metadata": {},
   "outputs": [
    {
     "name": "stdout",
     "output_type": "stream",
     "text": [
      "Categorical shape: (26759, 1071)\n"
     ]
    }
   ],
   "source": [
    "import pandas as pd\n",
    "\n",
    "# One-hot encode categorical columns\n",
    "X_cat = pd.get_dummies(df[categorical_cols], drop_first=True)\n",
    "print(\"Categorical shape:\", X_cat.shape)\n"
   ]
  },
  {
   "cell_type": "code",
   "execution_count": 127,
   "id": "9884199f",
   "metadata": {},
   "outputs": [
    {
     "name": "stdout",
     "output_type": "stream",
     "text": [
      "Numeric shape: (26759, 1)\n"
     ]
    }
   ],
   "source": [
    "from sklearn.preprocessing import StandardScaler\n",
    "import numpy as np\n",
    "\n",
    "X_num = df[numeric_cols].astype(float)  # force numeric type\n",
    "scaler = StandardScaler()\n",
    "X_num_scaled = scaler.fit_transform(X_num)\n",
    "print(\"Numeric shape:\", X_num_scaled.shape)\n"
   ]
  },
  {
   "cell_type": "code",
   "execution_count": 128,
   "id": "a33bd26b",
   "metadata": {},
   "outputs": [
    {
     "name": "stdout",
     "output_type": "stream",
     "text": [
      "X dtype: float64\n",
      "X shape: (26759, 1072)\n"
     ]
    }
   ],
   "source": [
    "X = np.hstack([X_num_scaled, X_cat.values.astype(float)])\n",
    "y = df['podium'].values.astype(int)\n",
    "\n",
    "print(\"X dtype:\", X.dtype)  # should be float64\n",
    "print(\"X shape:\", X.shape)\n"
   ]
  },
  {
   "cell_type": "code",
   "execution_count": 129,
   "id": "1c9493c9",
   "metadata": {},
   "outputs": [
    {
     "name": "stdout",
     "output_type": "stream",
     "text": [
      "X_train shape: (22918, 1072)\n",
      "y_train shape: (22918,)\n"
     ]
    }
   ],
   "source": [
    "print(\"X_train shape:\", X_train.shape)\n",
    "print(\"y_train shape:\", y_train.shape)\n",
    "\n"
   ]
  },
  {
   "cell_type": "code",
   "execution_count": 130,
   "id": "8f4ab79c",
   "metadata": {},
   "outputs": [],
   "source": [
    "X_train = X_train.astype('float32')\n",
    "X_test = X_test.astype('float32')\n",
    "y_train = y_train.astype('float32')\n",
    "y_test = y_test.astype('float32')\n"
   ]
  },
  {
   "cell_type": "code",
   "execution_count": 131,
   "id": "3cf3f58e",
   "metadata": {},
   "outputs": [
    {
     "name": "stdout",
     "output_type": "stream",
     "text": [
      "Epoch 1/25\n",
      "\u001b[1m717/717\u001b[0m \u001b[32m━━━━━━━━━━━━━━━━━━━━\u001b[0m\u001b[37m\u001b[0m \u001b[1m3s\u001b[0m 3ms/step - accuracy: 0.8747 - loss: 0.3094 - val_accuracy: 0.8620 - val_loss: 0.3032\n",
      "Epoch 2/25\n",
      "\u001b[1m717/717\u001b[0m \u001b[32m━━━━━━━━━━━━━━━━━━━━\u001b[0m\u001b[37m\u001b[0m \u001b[1m2s\u001b[0m 2ms/step - accuracy: 0.8858 - loss: 0.2587 - val_accuracy: 0.8688 - val_loss: 0.2972\n",
      "Epoch 3/25\n",
      "\u001b[1m717/717\u001b[0m \u001b[32m━━━━━━━━━━━━━━━━━━━━\u001b[0m\u001b[37m\u001b[0m \u001b[1m2s\u001b[0m 2ms/step - accuracy: 0.8862 - loss: 0.2494 - val_accuracy: 0.8696 - val_loss: 0.3191\n",
      "Epoch 4/25\n",
      "\u001b[1m717/717\u001b[0m \u001b[32m━━━━━━━━━━━━━━━━━━━━\u001b[0m\u001b[37m\u001b[0m \u001b[1m2s\u001b[0m 2ms/step - accuracy: 0.8880 - loss: 0.2455 - val_accuracy: 0.8690 - val_loss: 0.3273\n",
      "Epoch 5/25\n",
      "\u001b[1m717/717\u001b[0m \u001b[32m━━━━━━━━━━━━━━━━━━━━\u001b[0m\u001b[37m\u001b[0m \u001b[1m2s\u001b[0m 2ms/step - accuracy: 0.8907 - loss: 0.2422 - val_accuracy: 0.8662 - val_loss: 0.3061\n",
      "Epoch 6/25\n",
      "\u001b[1m717/717\u001b[0m \u001b[32m━━━━━━━━━━━━━━━━━━━━\u001b[0m\u001b[37m\u001b[0m \u001b[1m2s\u001b[0m 2ms/step - accuracy: 0.8913 - loss: 0.2393 - val_accuracy: 0.8677 - val_loss: 0.3209\n",
      "Epoch 7/25\n",
      "\u001b[1m717/717\u001b[0m \u001b[32m━━━━━━━━━━━━━━━━━━━━\u001b[0m\u001b[37m\u001b[0m \u001b[1m2s\u001b[0m 2ms/step - accuracy: 0.8932 - loss: 0.2363 - val_accuracy: 0.8706 - val_loss: 0.3350\n"
     ]
    }
   ],
   "source": [
    "from tensorflow.keras.callbacks import EarlyStopping\n",
    "\n",
    "early_stop = EarlyStopping(monitor='val_loss', patience=5)\n",
    "history = model.fit(\n",
    "    X_train, y_train,\n",
    "    epochs=25,\n",
    "    batch_size=32,\n",
    "    validation_data=(X_test, y_test),\n",
    "    callbacks=[early_stop],\n",
    "    verbose=1\n",
    ")\n"
   ]
  },
  {
   "cell_type": "code",
   "execution_count": 132,
   "id": "d781cb80",
   "metadata": {},
   "outputs": [
    {
     "name": "stdout",
     "output_type": "stream",
     "text": [
      "Epoch 1/25\n",
      "\u001b[1m717/717\u001b[0m \u001b[32m━━━━━━━━━━━━━━━━━━━━\u001b[0m\u001b[37m\u001b[0m \u001b[1m2s\u001b[0m 2ms/step - accuracy: 0.7678 - loss: 0.8479 - val_accuracy: 0.6467 - val_loss: 0.6874\n",
      "Epoch 2/25\n",
      "\u001b[1m717/717\u001b[0m \u001b[32m━━━━━━━━━━━━━━━━━━━━\u001b[0m\u001b[37m\u001b[0m \u001b[1m2s\u001b[0m 3ms/step - accuracy: 0.7746 - loss: 0.7752 - val_accuracy: 0.7055 - val_loss: 0.6372\n",
      "Epoch 3/25\n",
      "\u001b[1m717/717\u001b[0m \u001b[32m━━━━━━━━━━━━━━━━━━━━\u001b[0m\u001b[37m\u001b[0m \u001b[1m2s\u001b[0m 2ms/step - accuracy: 0.7707 - loss: 0.7639 - val_accuracy: 0.5493 - val_loss: 0.8604\n",
      "Epoch 4/25\n",
      "\u001b[1m717/717\u001b[0m \u001b[32m━━━━━━━━━━━━━━━━━━━━\u001b[0m\u001b[37m\u001b[0m \u001b[1m2s\u001b[0m 2ms/step - accuracy: 0.7753 - loss: 0.7436 - val_accuracy: 0.6306 - val_loss: 0.7039\n",
      "Epoch 5/25\n",
      "\u001b[1m717/717\u001b[0m \u001b[32m━━━━━━━━━━━━━━━━━━━━\u001b[0m\u001b[37m\u001b[0m \u001b[1m2s\u001b[0m 2ms/step - accuracy: 0.7748 - loss: 0.7339 - val_accuracy: 0.6402 - val_loss: 0.6774\n",
      "Epoch 6/25\n",
      "\u001b[1m717/717\u001b[0m \u001b[32m━━━━━━━━━━━━━━━━━━━━\u001b[0m\u001b[37m\u001b[0m \u001b[1m2s\u001b[0m 2ms/step - accuracy: 0.7736 - loss: 0.7269 - val_accuracy: 0.6371 - val_loss: 0.6947\n",
      "Epoch 7/25\n",
      "\u001b[1m717/717\u001b[0m \u001b[32m━━━━━━━━━━━━━━━━━━━━\u001b[0m\u001b[37m\u001b[0m \u001b[1m2s\u001b[0m 2ms/step - accuracy: 0.7712 - loss: 0.7133 - val_accuracy: 0.5920 - val_loss: 0.7082\n",
      "Epoch 8/25\n",
      "\u001b[1m717/717\u001b[0m \u001b[32m━━━━━━━━━━━━━━━━━━━━\u001b[0m\u001b[37m\u001b[0m \u001b[1m2s\u001b[0m 2ms/step - accuracy: 0.7768 - loss: 0.7054 - val_accuracy: 0.5116 - val_loss: 0.8084\n",
      "Epoch 9/25\n",
      "\u001b[1m717/717\u001b[0m \u001b[32m━━━━━━━━━━━━━━━━━━━━\u001b[0m\u001b[37m\u001b[0m \u001b[1m2s\u001b[0m 2ms/step - accuracy: 0.7755 - loss: 0.6961 - val_accuracy: 0.5847 - val_loss: 0.7044\n",
      "Epoch 10/25\n",
      "\u001b[1m717/717\u001b[0m \u001b[32m━━━━━━━━━━━━━━━━━━━━\u001b[0m\u001b[37m\u001b[0m \u001b[1m2s\u001b[0m 2ms/step - accuracy: 0.7804 - loss: 0.6876 - val_accuracy: 0.6371 - val_loss: 0.6898\n",
      "Epoch 11/25\n",
      "\u001b[1m717/717\u001b[0m \u001b[32m━━━━━━━━━━━━━━━━━━━━\u001b[0m\u001b[37m\u001b[0m \u001b[1m2s\u001b[0m 2ms/step - accuracy: 0.7769 - loss: 0.6852 - val_accuracy: 0.6087 - val_loss: 0.7828\n",
      "Epoch 12/25\n",
      "\u001b[1m717/717\u001b[0m \u001b[32m━━━━━━━━━━━━━━━━━━━━\u001b[0m\u001b[37m\u001b[0m \u001b[1m2s\u001b[0m 2ms/step - accuracy: 0.7793 - loss: 0.6825 - val_accuracy: 0.5616 - val_loss: 0.8025\n",
      "Epoch 13/25\n",
      "\u001b[1m717/717\u001b[0m \u001b[32m━━━━━━━━━━━━━━━━━━━━\u001b[0m\u001b[37m\u001b[0m \u001b[1m2s\u001b[0m 2ms/step - accuracy: 0.7788 - loss: 0.6733 - val_accuracy: 0.4944 - val_loss: 0.8616\n",
      "Epoch 14/25\n",
      "\u001b[1m717/717\u001b[0m \u001b[32m━━━━━━━━━━━━━━━━━━━━\u001b[0m\u001b[37m\u001b[0m \u001b[1m2s\u001b[0m 3ms/step - accuracy: 0.7794 - loss: 0.6695 - val_accuracy: 0.5043 - val_loss: 0.9028\n",
      "Epoch 15/25\n",
      "\u001b[1m717/717\u001b[0m \u001b[32m━━━━━━━━━━━━━━━━━━━━\u001b[0m\u001b[37m\u001b[0m \u001b[1m5s\u001b[0m 7ms/step - accuracy: 0.7829 - loss: 0.6650 - val_accuracy: 0.5660 - val_loss: 0.8139\n",
      "Epoch 16/25\n",
      "\u001b[1m717/717\u001b[0m \u001b[32m━━━━━━━━━━━━━━━━━━━━\u001b[0m\u001b[37m\u001b[0m \u001b[1m4s\u001b[0m 6ms/step - accuracy: 0.7827 - loss: 0.6605 - val_accuracy: 0.5155 - val_loss: 0.8652\n",
      "Epoch 17/25\n",
      "\u001b[1m717/717\u001b[0m \u001b[32m━━━━━━━━━━━━━━━━━━━━\u001b[0m\u001b[37m\u001b[0m \u001b[1m5s\u001b[0m 6ms/step - accuracy: 0.7838 - loss: 0.6568 - val_accuracy: 0.5059 - val_loss: 0.8310\n",
      "Epoch 18/25\n",
      "\u001b[1m717/717\u001b[0m \u001b[32m━━━━━━━━━━━━━━━━━━━━\u001b[0m\u001b[37m\u001b[0m \u001b[1m3s\u001b[0m 3ms/step - accuracy: 0.7824 - loss: 0.6566 - val_accuracy: 0.5267 - val_loss: 0.8932\n",
      "Epoch 19/25\n",
      "\u001b[1m717/717\u001b[0m \u001b[32m━━━━━━━━━━━━━━━━━━━━\u001b[0m\u001b[37m\u001b[0m \u001b[1m2s\u001b[0m 2ms/step - accuracy: 0.7831 - loss: 0.6470 - val_accuracy: 0.5704 - val_loss: 0.8426\n",
      "Epoch 20/25\n",
      "\u001b[1m717/717\u001b[0m \u001b[32m━━━━━━━━━━━━━━━━━━━━\u001b[0m\u001b[37m\u001b[0m \u001b[1m2s\u001b[0m 3ms/step - accuracy: 0.7861 - loss: 0.6449 - val_accuracy: 0.4876 - val_loss: 0.8920\n",
      "Epoch 21/25\n",
      "\u001b[1m717/717\u001b[0m \u001b[32m━━━━━━━━━━━━━━━━━━━━\u001b[0m\u001b[37m\u001b[0m \u001b[1m2s\u001b[0m 3ms/step - accuracy: 0.7868 - loss: 0.6421 - val_accuracy: 0.5571 - val_loss: 0.8472\n",
      "Epoch 22/25\n",
      "\u001b[1m717/717\u001b[0m \u001b[32m━━━━━━━━━━━━━━━━━━━━\u001b[0m\u001b[37m\u001b[0m \u001b[1m2s\u001b[0m 3ms/step - accuracy: 0.7888 - loss: 0.6415 - val_accuracy: 0.5551 - val_loss: 0.8193\n",
      "Epoch 23/25\n",
      "\u001b[1m717/717\u001b[0m \u001b[32m━━━━━━━━━━━━━━━━━━━━\u001b[0m\u001b[37m\u001b[0m \u001b[1m2s\u001b[0m 3ms/step - accuracy: 0.7875 - loss: 0.6329 - val_accuracy: 0.4736 - val_loss: 0.9733\n",
      "Epoch 24/25\n",
      "\u001b[1m717/717\u001b[0m \u001b[32m━━━━━━━━━━━━━━━━━━━━\u001b[0m\u001b[37m\u001b[0m \u001b[1m2s\u001b[0m 2ms/step - accuracy: 0.7877 - loss: 0.6221 - val_accuracy: 0.5220 - val_loss: 0.9399\n",
      "Epoch 25/25\n",
      "\u001b[1m717/717\u001b[0m \u001b[32m━━━━━━━━━━━━━━━━━━━━\u001b[0m\u001b[37m\u001b[0m \u001b[1m2s\u001b[0m 2ms/step - accuracy: 0.7887 - loss: 0.6234 - val_accuracy: 0.4954 - val_loss: 0.9778\n"
     ]
    },
    {
     "data": {
      "text/plain": [
       "<keras.src.callbacks.history.History at 0x194977fba40>"
      ]
     },
     "execution_count": 132,
     "metadata": {},
     "output_type": "execute_result"
    }
   ],
   "source": [
    "class_weights = {0:1, 1:10} \n",
    "model.fit(X_train, y_train, epochs=25, batch_size=32, validation_data=(X_test, y_test),\n",
    "          class_weight=class_weights)\n"
   ]
  },
  {
   "cell_type": "code",
   "execution_count": 133,
   "id": "6af28177",
   "metadata": {},
   "outputs": [
    {
     "name": "stdout",
     "output_type": "stream",
     "text": [
      "\u001b[1m121/121\u001b[0m \u001b[32m━━━━━━━━━━━━━━━━━━━━\u001b[0m\u001b[37m\u001b[0m \u001b[1m0s\u001b[0m 1ms/step  \n",
      "              precision    recall  f1-score   support\n",
      "\n",
      "         0.0     0.9147    0.4494    0.6027      3271\n",
      "         1.0     0.1938    0.7596    0.3088       570\n",
      "\n",
      "    accuracy                         0.4954      3841\n",
      "   macro avg     0.5543    0.6045    0.4558      3841\n",
      "weighted avg     0.8078    0.4954    0.5591      3841\n",
      "\n",
      "Confusion Matrix:\n",
      " [[1470 1801]\n",
      " [ 137  433]]\n"
     ]
    },
    {
     "data": {
      "image/png": "[encoded data removed]",
      "text/plain": [
       "<Figure size 640x480 with 1 Axes>"
      ]
     },
     "metadata": {},
     "output_type": "display_data"
    }
   ],
   "source": [
    "y_pred_probs = model.predict(X_test)\n",
    "y_pred = (y_pred_probs >= 0.5).astype(int)\n",
    "\n",
    "print(classification_report(y_test, y_pred, digits=4))\n",
    "print(\"Confusion Matrix:\\n\", confusion_matrix(y_test, y_pred))\n",
    "\n",
    "plt.plot(history.history['accuracy'], label='Train Acc')\n",
    "plt.plot(history.history['val_accuracy'], label='Val Acc')\n",
    "plt.xlabel('Epochs')\n",
    "plt.ylabel('Accuracy')\n",
    "plt.legend()\n",
    "plt.show()\n"
   ]
  },
  {
   "cell_type": "code",
   "execution_count": 134,
   "id": "f200d1f5",
   "metadata": {},
   "outputs": [
    {
     "name": "stderr",
     "output_type": "stream",
     "text": [
      "WARNING:absl:You are saving your model as an HDF5 file via `model.save()` or `keras.saving.save_model(model)`. This file format is considered legacy. We recommend using instead the native Keras format, e.g. `model.save('my_model.keras')` or `keras.saving.save_model(model, 'my_model.keras')`. \n"
     ]
    }
   ],
   "source": [
    "model.save(\"f1_podium_model.h5\")\n"
   ]
  },
  {
   "cell_type": "code",
   "execution_count": null,
   "id": "49385eb9",
   "metadata": {},
   "outputs": [
    {
     "name": "stdout",
     "output_type": "stream",
     "text": [
      "Saved X_cat_columns_train.pkl with 1071 columns\n"
     ]
    }
   ],
   "source": [
    "X_cat_columns = X_cat.columns\n",
    "pd.Series(X_cat_columns).to_pickle(\"X_cat_columns_train.pkl\")\n",
    "print(\"Saved X_cat_columns_train.pkl with\", len(X_cat_columns), \"columns\")\n"
   ]
  },
  {
   "cell_type": "code",
   "execution_count": 141,
   "id": "9a4207b2",
   "metadata": {},
   "outputs": [
    {
     "name": "stderr",
     "output_type": "stream",
     "text": [
      "WARNING:absl:Compiled the loaded model, but the compiled metrics have yet to be built. `model.compile_metrics` will be empty until you train or evaluate the model.\n"
     ]
    },
    {
     "name": "stdout",
     "output_type": "stream",
     "text": [
      "WARNING:tensorflow:5 out of the last 124 calls to <function TensorFlowTrainer.make_predict_function.<locals>.one_step_on_data_distributed at 0x0000019497BC1DA0> triggered tf.function retracing. Tracing is expensive and the excessive number of tracings could be due to (1) creating @tf.function repeatedly in a loop, (2) passing tensors with different shapes, (3) passing Python objects instead of tensors. For (1), please define your @tf.function outside of the loop. For (2), @tf.function has reduce_retracing=True option that can avoid unnecessary retracing. For (3), please refer to https://www.tensorflow.org/guide/function#controlling_retracing and https://www.tensorflow.org/api_docs/python/tf/function for  more details.\n"
     ]
    },
    {
     "name": "stderr",
     "output_type": "stream",
     "text": [
      "C:\\Users\\Lenovo\\AppData\\Local\\Packages\\PythonSoftwareFoundation.Python.3.12_qbz5n2kfra8p0\\LocalCache\\local-packages\\Python312\\site-packages\\sklearn\\base.py:493: UserWarning: X does not have valid feature names, but StandardScaler was fitted with feature names\n",
      "  warnings.warn(\n",
      "WARNING:tensorflow:5 out of the last 124 calls to <function TensorFlowTrainer.make_predict_function.<locals>.one_step_on_data_distributed at 0x0000019497BC1DA0> triggered tf.function retracing. Tracing is expensive and the excessive number of tracings could be due to (1) creating @tf.function repeatedly in a loop, (2) passing tensors with different shapes, (3) passing Python objects instead of tensors. For (1), please define your @tf.function outside of the loop. For (2), @tf.function has reduce_retracing=True option that can avoid unnecessary retracing. For (3), please refer to https://www.tensorflow.org/guide/function#controlling_retracing and https://www.tensorflow.org/api_docs/python/tf/function for  more details.\n"
     ]
    },
    {
     "name": "stdout",
     "output_type": "stream",
     "text": [
      "Driver: Lewis Hamilton, Constructor: Mercedes, Circuit: Silverstone Circuit, Grid: 2\n",
      "Podium Probability: 1.00 → PODIUM ✅\n"
     ]
    }
   ],
   "source": [
    "import numpy as np\n",
    "import pandas as pd\n",
    "from tensorflow.keras.models import load_model\n",
    "import joblib\n",
    "\n",
    "model = load_model(\"f1_podium_model.h5\")              \n",
    "scaler = joblib.load(\"scaler.save\")                   \n",
    "X_cat_columns = pd.read_pickle(\"X_cat_columns_train.pkl\") \n",
    "numeric_cols = ['grid']                          \n",
    "\n",
    "def prepare_input(driver, constructor, circuit, grid):\n",
    "  \n",
    "    total_features = len(numeric_cols) + len(X_cat_columns)\n",
    "    X_input = np.zeros((1, total_features), dtype=float)\n",
    "    X_input[0, :len(numeric_cols)] = scaler.transform([[grid]])\n",
    "    for i, col in enumerate(X_cat_columns):\n",
    "        if col.lower() in [driver.lower(), constructor.lower(), circuit.lower()]:\n",
    "            X_input[0, len(numeric_cols) + i] = 1.0\n",
    "\n",
    "    return X_input\n",
    "def predict_podium(driver, constructor, circuit, grid, threshold=0.5):\n",
    "    X_input = prepare_input(driver, constructor, circuit, grid)\n",
    "    prob = model.predict(X_input, verbose=0)[0][0]\n",
    "    return prob, \"PODIUM ✅\" if prob >= threshold else \"Not Podium ❌\"\n",
    "\n",
    "\n",
    "if __name__ == \"__main__\":\n",
    "    driver = \"Lewis Hamilton\"\n",
    "    constructor = \"Mercedes\"\n",
    "    circuit = \"Silverstone Circuit\"\n",
    "    grid = 2\n",
    "\n",
    "    prob, result = predict_podium(driver, constructor, circuit, grid)\n",
    "    print(f\"Driver: {driver}, Constructor: {constructor}, Circuit: {circuit}, Grid: {grid}\")\n",
    "    print(f\"Podium Probability: {prob:.2f} → {result}\")\n"
   ]
  }
 ],
 "metadata": {
  "kernelspec": {
   "display_name": "Python 3",
   "language": "python",
   "name": "python3"
  },
  "language_info": {
   "codemirror_mode": {
    "name": "ipython",
    "version": 3
   },
   "file_extension": ".py",
   "mimetype": "text/x-python",
   "name": "python",
   "nbconvert_exporter": "python",
   "pygments_lexer": "ipython3",
   "version": "3.12.10"
  }
 },
 "nbformat": 4,
 "nbformat_minor": 5
}
